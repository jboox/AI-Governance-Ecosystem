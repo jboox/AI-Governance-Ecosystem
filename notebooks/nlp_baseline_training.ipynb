{
 "cells": [
  {
   "cell_type": "markdown",
   "id": "38ccbb72",
   "metadata": {},
   "source": [
    "# NLP Baseline Training – Work Quality Index (WQI)"
   ]
  },
  {
   "cell_type": "code",
   "execution_count": null,
   "id": "a601659a",
   "metadata": {},
   "outputs": [],
   "source": [
    "import pandas as pd\n",
    "from sklearn.model_selection import train_test_split\n",
    "from sklearn.feature_extraction.text import TfidfVectorizer\n",
    "from sklearn.linear_model import LogisticRegression\n",
    "from sklearn.metrics import cohen_kappa_score, mean_absolute_error\n",
    "import numpy as np\n",
    "import joblib\n",
    "import os\n",
    "\n",
    "path = os.path.join('..','data','sample_ckp_labeled.csv')\n",
    "df = pd.read_csv(path)\n",
    "df['label_wqi_bucket'] = pd.cut(df['WQI'], bins=[-1,20,40,60,80,100], labels=[0,1,2,3,4]).astype(int)\n",
    "X_text = df['uraian_teks'].fillna('')\n",
    "y = df['label_wqi_bucket']\n",
    "\n",
    "tfidf = TfidfVectorizer(ngram_range=(1,2), min_df=1)\n",
    "X = tfidf.fit_transform(X_text)\n",
    "X_tr, X_te, y_tr, y_te = train_test_split(X, y, test_size=0.25, random_state=42, stratify=y)\n",
    "clf = LogisticRegression(max_iter=200)\n",
    "clf.fit(X_tr, y_tr)\n",
    "pred = clf.predict(X_te)\n",
    "qwk = cohen_kappa_score(y_te, pred, weights='quadratic')\n",
    "print('Quadratic Weighted Kappa:', round(qwk, 3))\n",
    "bucket_to_score = {0:10,1:30,2:50,3:70,4:90}\n",
    "joblib.dump({'vectorizer': tfidf, 'model': clf, 'bucket_to_score': bucket_to_score}, os.path.join('..','backend','models','nlp_wqi_baseline.joblib'))\n",
    "print('Model saved.')\n"
   ]
  }
 ],
 "metadata": {},
 "nbformat": 4,
 "nbformat_minor": 5
}
