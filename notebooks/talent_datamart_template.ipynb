{
 "cells": [
  {
   "cell_type": "markdown",
   "id": "1e2ff83a",
   "metadata": {},
   "source": [
    "# Talent Data Mart Template – Feature Engineering"
   ]
  },
  {
   "cell_type": "code",
   "execution_count": null,
   "id": "76888b29",
   "metadata": {},
   "outputs": [],
   "source": [
    "import pandas as pd, numpy as np, os\n",
    "ckp = pd.read_csv(os.path.join('..','data','sample_ckp_labeled.csv'))\n",
    "feat = ckp.groupby('pegawai_id').agg(mean_wqi=('WQI','mean'), cnt_entries=('entry_id','count')).reset_index()\n",
    "feat['late_days_30'] = np.random.poisson(1, size=len(feat))\n",
    "feat['training_hours_180'] = np.random.randint(0,40, size=len(feat))\n",
    "feat.to_csv(os.path.join('..','data','talent_datamart_sample.csv'), index=False)\n",
    "feat.head()"
   ]
  }
 ],
 "metadata": {},
 "nbformat": 4,
 "nbformat_minor": 5
}
